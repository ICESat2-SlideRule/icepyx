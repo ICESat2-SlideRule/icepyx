{
 "cells": [
  {
   "cell_type": "markdown",
   "id": "552e9ef9",
   "metadata": {},
   "source": [
    "## Reading ICESat-2 Data\n",
    "### Basic Data Read-in Example Notebook\n",
    "This notebook illustrates the use of icepyx for reading ICESat-2 data files, loading them into a data object.\n",
    "Currently the default data object is an Xarray Dataset, with ongoing work to provide support for other data object types.\n",
    "\n",
    "To read in the data, icepyx creates an [Intake](https://intake.readthedocs.io/en/latest/) data [catalog](https://intake.readthedocs.io/en/latest/catalog.html), which can be saved, shared, modified, and reused to reproducibly read in a set of data files in a consistent way as part of an analysis workflow.\n",
    "This approach streamlines the transition between data sources (local/downloaded files or, ultimately, cloud/bucket access) and data object types (e.g. [Xarray Dataset](http://xarray.pydata.org/en/stable/generated/xarray.Dataset.html) or [GeoPandas GeoDataFrame](https://geopandas.org/docs/reference/api/geopandas.GeoDataFrame.html)).\n",
    "\n",
    "#### Credits\n",
    "* original notebook by: Jessica Scheick\n",
    "* notebook contributors: \n",
    "* templates for default ICESat-2 Intake catalogs from: [Wei Ji]() and [Tian]().\n"
   ]
  },
  {
   "cell_type": "markdown",
   "id": "0d360de3",
   "metadata": {},
   "source": [
    "### Import packages, including icepyx"
   ]
  },
  {
   "cell_type": "code",
   "execution_count": null,
   "id": "2b74b672",
   "metadata": {},
   "outputs": [],
   "source": [
    "%load_ext autoreload\n",
    "import icepyx as ipx\n",
    "%autoreload 2"
   ]
  },
  {
   "cell_type": "code",
   "execution_count": null,
   "id": "72ab65dc",
   "metadata": {},
   "outputs": [],
   "source": [
    "import os\n",
    "import fnmatch\n",
    "import glob\n",
    "import pathlib\n",
    "import fsspec\n",
    "from fsspec.implementations.local import LocalFileSystem"
   ]
  },
  {
   "cell_type": "markdown",
   "id": "dab8f0ea",
   "metadata": {},
   "source": [
    "https://github.com/OSOceanAcoustics/echopype/blob/ab5128fb8580f135d875580f0469e5fba3193b84/echopype/utils/io.py\n",
    "https://filesystem-spec.readthedocs.io/en/latest/api.html?highlight=get_map#fsspec.spec.AbstractFileSystem.glob\n",
    "https://filesystem-spec.readthedocs.io/en/latest/_modules/fsspec/implementations/local.html\n",
    "https://github.com/OSOceanAcoustics/echopype/blob/ab5128fb8580f135d875580f0469e5fba3193b84/echopype/convert/api.py#L380\n",
    "https://echopype.readthedocs.io/en/stable/convert.html\n"
   ]
  },
  {
   "cell_type": "code",
   "execution_count": null,
   "id": "7a84d263",
   "metadata": {},
   "outputs": [],
   "source": []
  },
  {
   "cell_type": "code",
   "execution_count": null,
   "id": "a622a60e",
   "metadata": {},
   "outputs": [],
   "source": []
  },
  {
   "cell_type": "code",
   "execution_count": null,
   "id": "07a891ec",
   "metadata": {},
   "outputs": [],
   "source": [
    "lfs = LocalFileSystem()"
   ]
  },
  {
   "cell_type": "code",
   "execution_count": null,
   "id": "6bf5b474",
   "metadata": {},
   "outputs": [],
   "source": [
    "lfs"
   ]
  },
  {
   "cell_type": "code",
   "execution_count": null,
   "id": "24266bf6",
   "metadata": {},
   "outputs": [],
   "source": [
    "lfs.ls(\"/\")"
   ]
  },
  {
   "cell_type": "code",
   "execution_count": null,
   "id": "941f79b9",
   "metadata": {},
   "outputs": [],
   "source": [
    "fsmap = fsspec.get_mapper(str(path))\n",
    "output_fs = fsmap.fs"
   ]
  },
  {
   "cell_type": "code",
   "execution_count": null,
   "id": "a041cc68",
   "metadata": {},
   "outputs": [],
   "source": [
    "output_fs.ls()"
   ]
  },
  {
   "cell_type": "code",
   "execution_count": null,
   "id": "889e4f63",
   "metadata": {},
   "outputs": [],
   "source": [
    "output_fs"
   ]
  },
  {
   "cell_type": "code",
   "execution_count": null,
   "id": "df2e626a",
   "metadata": {},
   "outputs": [],
   "source": [
    "source_file, file_format\n",
    "\n",
    "\n",
    "if not isinstance(save_path, Path) and not isinstance(save_path, str):\n",
    "            raise TypeError(\"save_path must be a string or Path\")\n",
    "\n",
    "        fsmap = fsspec.get_mapper(str(save_path), **output_storage_options)\n",
    "        output_fs = fsmap.fs\n",
    "\n",
    "        # Use the full path such as s3://... if it's not local, otherwise use root\n",
    "        if isinstance(output_fs, LocalFileSystem):\n",
    "            root = fsmap.root\n",
    "        else:\n",
    "            root = save_path\n",
    "        if Path(root).suffix == \"\":  # directory\n",
    "            out_dir = root\n",
    "            out_path = os.path.join(root, Path(source_file).stem + file_format)\n",
    "        else:  # file\n",
    "            out_dir = os.path.dirname(root)\n",
    "            out_path = os.path.join(out_dir, Path(root).stem + file_format)"
   ]
  },
  {
   "cell_type": "code",
   "execution_count": null,
   "id": "4f1f6adc",
   "metadata": {},
   "outputs": [],
   "source": []
  },
  {
   "cell_type": "code",
   "execution_count": null,
   "id": "8d9b84dd",
   "metadata": {},
   "outputs": [],
   "source": []
  },
  {
   "cell_type": "markdown",
   "id": "e8da42c1",
   "metadata": {},
   "source": [
    "### Set data source path\n",
    "\n",
    "Provide a full path to the data to be read in (i.e. opened).\n",
    "Currently accepted inputs are:\n",
    "* a directory\n",
    "* a single file\n",
    "\n",
    "All files to be read in *must* have a consistent filename pattern.\n",
    "If a directory is supplied as the data source, all files in any subdirectories that match the filename pattern will be included.\n",
    "\n",
    "S3 bucket data access is currently under development, and requires you are registered with NSIDC as a beta tester for cloud-based ICESat-2 data.\n",
    "icepyx is working to ensure a smooth transition to working with remote files.\n",
    "We'd love your help exploring and testing these features as they become available!"
   ]
  },
  {
   "cell_type": "code",
   "execution_count": null,
   "id": "e683ebf7",
   "metadata": {},
   "outputs": [],
   "source": [
    "urlpath = 's3://nsidc-cumulus-prod-protected/ATLAS/ATL03/004/2019/11/30/ATL03_20191130221008_09930503_004_01.h5'"
   ]
  },
  {
   "cell_type": "code",
   "execution_count": null,
   "id": "8b6edf0c",
   "metadata": {},
   "outputs": [],
   "source": [
    "filepath = '/Users/jessica/computing/icepyx/test_data/ATL06-20181214041627-Sample.h5'"
   ]
  },
  {
   "cell_type": "code",
   "execution_count": null,
   "id": "9cde6679",
   "metadata": {},
   "outputs": [],
   "source": [
    "path = '/Users/jessica/computing/icepyx/test_data/'"
   ]
  },
  {
   "cell_type": "code",
   "execution_count": null,
   "id": "8fcfc887",
   "metadata": {},
   "outputs": [],
   "source": [
    "filepath2 = '/Users/jessica/computing/icepyx/test_data/test_subdir/ATL03_20191130221008_09930503_004_01.h5'"
   ]
  },
  {
   "cell_type": "markdown",
   "id": "92743496",
   "metadata": {},
   "source": [
    "### Create a filename pattern for your data files\n",
    "\n",
    "Files provided by NSIDC match the format `\"ATL{product:2}_{datetime:%Y%m%d%H%M%S}_{rgt:4}{cycle:2}{orbitsegment:2}_{version:3}_{revision:2}.h5\"` where the parameters in curly brackets indicate a parameter name (left of the colin) and character length or format (right of the colin).\n",
    "Some of this information is used during data opening to help correctly read and label the data within the data structure, particularly when multiple files are opened simultaneously.\n",
    "\n",
    "By default, icepyx will assume your filenames follow the default format.\n",
    "However, you can easily read in other ICESat-2 data files by supplying your own filename pattern.\n",
    "For instance, `pattern=\"ATL{product:2}-{datetime:%Y%m%d%H%M%S}-Sample.h5\"`."
   ]
  },
  {
   "cell_type": "code",
   "execution_count": null,
   "id": "7318abd0",
   "metadata": {},
   "outputs": [],
   "source": [
    "pattern = 'ATL06-{datetime:%Y%m%d%H%M%S}-Sample.h5'\n",
    "# pattern = 'ATL{product:2}-{datetime:%Y%m%d%H%M%S}-Sample.h5'"
   ]
  },
  {
   "cell_type": "code",
   "execution_count": null,
   "id": "f43e8664",
   "metadata": {},
   "outputs": [],
   "source": [
    "pattern = \"ATL{product:2}_{datetime:%Y%m%d%H%M%S}_{rgt:4}{cycle:2}{orbitsegment:2}_{version:3}_{revision:2}.h5\""
   ]
  },
  {
   "cell_type": "markdown",
   "id": "4275b04c",
   "metadata": {},
   "source": [
    "### Create an icepyx read object"
   ]
  },
  {
   "cell_type": "code",
   "execution_count": null,
   "id": "39bd7eb8",
   "metadata": {
    "scrolled": true
   },
   "outputs": [],
   "source": [
    "reader = ipx.Read(filepath, \"ATL06\", pattern) # or ipx.Read(filepath, \"ATLXX\") if your filenames match the defualt pattern"
   ]
  },
  {
   "cell_type": "code",
   "execution_count": null,
   "id": "6c9ebc4a",
   "metadata": {},
   "outputs": [],
   "source": [
    "reader._filelist"
   ]
  },
  {
   "cell_type": "code",
   "execution_count": null,
   "id": "d3713ed0",
   "metadata": {},
   "outputs": [],
   "source": []
  },
  {
   "cell_type": "markdown",
   "id": "da8d8024",
   "metadata": {},
   "source": [
    "### Provide some set up information on how you'd like to read in your data\n",
    "\n",
    "When you open a data file, you must specify the underlying data structure and how you'd like the information to be read in.\n",
    "A simple example of this, for instance when opening a csv or similarly delimited file, is letting the software know if the data contains a header row, what the data type is (string, double, float, boolean, etc.) for each column, what the delimeter is, and which columns or rows you'd like to be loaded.\n",
    "Many ICESat-2 data readers are quite manual in nature, requiring that you accurately type out a list of string paths to the various data variables.\n",
    "\n",
    "icepyx simplifies this process by relying on its awareness of ICESat-2 specific data file variable storage structure.\n",
    "Instead of needing to manually iterate through the beam pairs, you can provide a few options to the `Read` object and icepyx will do the heavy lifting for you.\n",
    "(If you're interested in what's happening under the hood, icepyx turns your instructions into something called a catalog, then uses the Intake library and the catalog to actually load the data into memory.)\n",
    "\n",
    "#### Specify variables to be read in\n",
    "\n",
    "The first piece of information icepyx needs is which variables you'd like to read in.\n",
    "If you've used icepyx to download data from NSIDC with variable subsetting (which is the default), then you may already be familiar with the icepyx `Variables` module and how to create and modify lists of variables.\n",
    "We showcase a specific case here, but we encourage you to check out [this subsetting example - maybe rebranded to subsetting/variable navigation?]() for a thorough trip through how to create and manipulate lists of ICESat-2 variable paths.\n",
    "\n",
    "You can use a default list that loads commonly used variables for your data product, or create your own list of variables to be read in.\n",
    "icepyx will determine what variables are available for you to read in by creating a list from one of your source files.\n",
    "If you have multiple files that you're reading in, icepyx will automatically generate a list of filenames and take the first one to get the list of available variables.\n",
    "\n",
    "Thus, if you have different variables available across files (even from the same data product), you may run into issues and need to come up with a workaround (we can help you do so!).\n",
    "We anticipate most users will have the minimum set of variables they are seeking to load available across all data files, so we're not currently developing this feature.\n",
    "Please get in touch if it would be a helpful feature for you or if you encounter this problem!"
   ]
  },
  {
   "cell_type": "markdown",
   "id": "55092d1b",
   "metadata": {},
   "source": [
    "For a basic case, let's say we want to read in height, latitude, and longitude for all beam pairs.\n",
    "We create our variables list as"
   ]
  },
  {
   "cell_type": "code",
   "execution_count": null,
   "id": "e3734e09",
   "metadata": {},
   "outputs": [],
   "source": [
    "reader.vars.append(var_list=['h_li', \"latitude\", \"longitude\"])"
   ]
  },
  {
   "cell_type": "markdown",
   "id": "fff0bb19",
   "metadata": {},
   "source": [
    "Then we can view a dictionary of the variables we'd like to read in."
   ]
  },
  {
   "cell_type": "code",
   "execution_count": null,
   "id": "8ef774f2",
   "metadata": {
    "scrolled": true
   },
   "outputs": [],
   "source": [
    "reader.vars.wanted"
   ]
  },
  {
   "cell_type": "markdown",
   "id": "9d5b50b5",
   "metadata": {},
   "source": [
    "Don't forget - if you need to start over generating your wanted variables list, it's easy!"
   ]
  },
  {
   "cell_type": "code",
   "execution_count": null,
   "id": "69894391",
   "metadata": {},
   "outputs": [],
   "source": [
    "reader.vars.remove(all=True)"
   ]
  },
  {
   "cell_type": "code",
   "execution_count": null,
   "id": "5c9ea794",
   "metadata": {},
   "outputs": [],
   "source": []
  },
  {
   "cell_type": "code",
   "execution_count": null,
   "id": "05e0b3f2",
   "metadata": {},
   "outputs": [],
   "source": []
  },
  {
   "cell_type": "markdown",
   "id": "8a1b1ba3",
   "metadata": {},
   "source": [
    "DELETE\n",
    "However, you may also add additional entries or use alternative drivers.\n",
    "This approach is not recommended for those with limited familiarity of Intake catalogs.\n",
    "If you find yourself needing additional customization at this point, we recommend creating a default catalog as above, exporting it (see below), modifying the underlying catalog file, and then re-creating your reader object with the modified catalog."
   ]
  },
  {
   "cell_type": "code",
   "execution_count": null,
   "id": "06979553",
   "metadata": {},
   "outputs": [],
   "source": []
  },
  {
   "cell_type": "markdown",
   "id": "473de4d7",
   "metadata": {},
   "source": [
    "### Loading your data\n",
    "\n",
    "Now that you've set up all the options, you're ready to read your ICESat-2 data into memory!"
   ]
  },
  {
   "cell_type": "code",
   "execution_count": null,
   "id": "eaabc976",
   "metadata": {
    "scrolled": true
   },
   "outputs": [],
   "source": [
    "ds = reader.load()\n",
    "ds"
   ]
  },
  {
   "cell_type": "code",
   "execution_count": null,
   "id": "57c987c0",
   "metadata": {},
   "outputs": [],
   "source": []
  },
  {
   "cell_type": "code",
   "execution_count": null,
   "id": "4a19d57c",
   "metadata": {},
   "outputs": [],
   "source": []
  },
  {
   "cell_type": "code",
   "execution_count": null,
   "id": "f56f4aa2",
   "metadata": {},
   "outputs": [],
   "source": []
  },
  {
   "cell_type": "code",
   "execution_count": null,
   "id": "4ddd5aff",
   "metadata": {},
   "outputs": [],
   "source": []
  },
  {
   "cell_type": "code",
   "execution_count": null,
   "id": "c7334112",
   "metadata": {},
   "outputs": [],
   "source": []
  },
  {
   "cell_type": "code",
   "execution_count": null,
   "id": "1c2ef3b9",
   "metadata": {},
   "outputs": [],
   "source": []
  },
  {
   "cell_type": "code",
   "execution_count": null,
   "id": "1350afee",
   "metadata": {},
   "outputs": [],
   "source": [
    "notebook demo:\n",
    "    X- show that you can enter minimal (or no) inputs to build catalog\n",
    "    X- show that you can override the defaults if you do more of construction on your end\n",
    "    - figure out how multiple var_paths will work...\n",
    "    X- show how to view the gui and use it to get the sources and then read in data\n",
    "    x (need to finish examples once have them from notebook) - add docstrings for build_catalog\n",
    "    x- clean up this notebook and start turning it into an example"
   ]
  },
  {
   "cell_type": "code",
   "execution_count": null,
   "id": "97f2b90d",
   "metadata": {},
   "outputs": [],
   "source": []
  },
  {
   "cell_type": "code",
   "execution_count": null,
   "id": "0207ca8a",
   "metadata": {},
   "outputs": [],
   "source": []
  },
  {
   "cell_type": "code",
   "execution_count": null,
   "id": "7c84a95e",
   "metadata": {},
   "outputs": [],
   "source": []
  },
  {
   "cell_type": "code",
   "execution_count": null,
   "id": "c229ac4e",
   "metadata": {},
   "outputs": [],
   "source": []
  },
  {
   "cell_type": "code",
   "execution_count": null,
   "id": "08a2c318",
   "metadata": {},
   "outputs": [],
   "source": []
  },
  {
   "cell_type": "code",
   "execution_count": null,
   "id": "74c9db8c",
   "metadata": {},
   "outputs": [],
   "source": []
  },
  {
   "cell_type": "markdown",
   "id": "6edfbb25",
   "metadata": {},
   "source": [
    "### More on Intake catalogs and the read object\n",
    "\n",
    "As anyone familiar with ICESat-2 hdf5 files knows, one of the challenges to reading in data is looping through all of the beam pairs for each track.\n",
    "The icepyx read module takes advantage of icepyx's variables module, which has some awareness of ICESat-2 data and uses that to save the user the trouble of having to loop through each beam pair.\n",
    "It does this by automatically creating minimal Intake catalogs for each variable path, reading in the data, and merging each variable into a ready-to-analyze Xarray DataSet.\n",
    "The Intake savvy user may wish to view the template catalog or use an existing catalog."
   ]
  },
  {
   "cell_type": "markdown",
   "id": "0f0076f9",
   "metadata": {},
   "source": [
    "#### Viewing the template catalog\n",
    "\n",
    "You can access the ICESat-2 catalog template as an attribute of the read object.\n",
    "\n",
    "***NOTE: accessing `reader.is2catalog` creates a template with a placeholder in the 'group' parameter; thus, it will not work to actually read in data***"
   ]
  },
  {
   "cell_type": "code",
   "execution_count": null,
   "id": "2de29fd8",
   "metadata": {
    "scrolled": true
   },
   "outputs": [],
   "source": [
    "reader.is2catalog"
   ]
  },
  {
   "cell_type": "code",
   "execution_count": null,
   "id": "7a5deef8",
   "metadata": {},
   "outputs": [],
   "source": [
    "reader.is2catalog.gui"
   ]
  },
  {
   "cell_type": "markdown",
   "id": "fef43556",
   "metadata": {},
   "source": [
    "#### Use an existing catalog\n",
    "If you already have a catalog for your data, you can supply that when you create the read object."
   ]
  },
  {
   "cell_type": "code",
   "execution_count": null,
   "id": "64986a60",
   "metadata": {},
   "outputs": [],
   "source": [
    "catpath = '/Users/jessica/computing/icepyx/test_data/test_catalog.yml'\n",
    "reader = ipx.Read(filepath, pattern, catpath)"
   ]
  },
  {
   "cell_type": "markdown",
   "id": "cf930e0a",
   "metadata": {},
   "source": [
    "Then, the load function will automatically use the catalog you supplied to read in the specified data variable.\n",
    "\n",
    "***NOTE: this means that you will only be able to read in a single data variable!***\n",
    "\n",
    "To take advantage of icepyx's knowledge of ICESat-2 data nesting of beam pairs, you must use the variable approach outlined earlier in this tutorial."
   ]
  },
  {
   "cell_type": "code",
   "execution_count": null,
   "id": "f5e3a221",
   "metadata": {},
   "outputs": [],
   "source": [
    "ds = reader.load()\n",
    "ds"
   ]
  },
  {
   "cell_type": "markdown",
   "id": "d56fc41c",
   "metadata": {},
   "source": [
    "#### More customization options\n",
    "\n",
    "If you'd like to use the icepyx ICESat-2 Catalog template to create your own customized catalog, we recommend that you access the `build_catalog` function directly, which returns an Intake Catalog instance.\n",
    "\n",
    "This function accepts as keyword input arguments (kwargs) dictionaries with appropriate keys (depending on the Intake driver you are using).\n",
    "The simplest version of this is specifying the variable parameters and paths of interest.\n",
    "`var_paths` may contain \"variables\", each of which must then be further defined by `var_path_params`.\n",
    "You cannot use glob-like path syntax to access variables (so `var_path = '/*/land_ice_segments'` is NOT VALID)."
   ]
  },
  {
   "cell_type": "code",
   "execution_count": null,
   "id": "f174f885",
   "metadata": {
    "scrolled": true
   },
   "outputs": [],
   "source": [
    "import icepyx.core.is2cat as is2cat\n",
    "\n",
    "# build a custom ICESat-2 catalog with a group and parameter\n",
    "cat = is2cat.build_catalog(var_paths = \"/{{laser}}/land_ice_segments\",\n",
    "                     var_path_params = [{\"name\": \"laser\",\n",
    "                                         \"description\": \"Laser Beam Number\",\n",
    "                                         \"type\": \"str\",\n",
    "                                         \"default\": \"gt1l\",\n",
    "                                         \"allowed\": [\"gt1l\", \"gt1r\", \"gt2l\", \"gt2r\", \"gt3l\", \"gt3r\"]\n",
    "                                        }]\n",
    "                    )"
   ]
  },
  {
   "cell_type": "markdown",
   "id": "bab9c949",
   "metadata": {},
   "source": [
    "#### Saving your catalog\n",
    "If you create a highly customized ICESat-2 catalog, you can use Intake's `save` to export it as a .yml file.\n",
    "\n",
    "Don't forget you can easily use an existing catalog to read in your data with `reader = ipx.Read(filepath, pattern, catalog)`"
   ]
  },
  {
   "cell_type": "code",
   "execution_count": null,
   "id": "30f0122a",
   "metadata": {},
   "outputs": [],
   "source": [
    "catpath = '/Users/jessica/computing/icepyx/test_data/test_catalog.yml'\n",
    "cat.save(catpath)"
   ]
  },
  {
   "cell_type": "code",
   "execution_count": null,
   "id": "330c01f9",
   "metadata": {},
   "outputs": [],
   "source": [
    "# DEL\n",
    "readcatalog = intake.open_catalog(catpath)"
   ]
  },
  {
   "cell_type": "code",
   "execution_count": null,
   "id": "fdb397e2",
   "metadata": {},
   "outputs": [],
   "source": [
    "# DEL\n",
    "readcatalog[\"is2_local\"].read()"
   ]
  },
  {
   "cell_type": "markdown",
   "id": "67abe448",
   "metadata": {},
   "source": []
  },
  {
   "cell_type": "code",
   "execution_count": null,
   "id": "737163f3",
   "metadata": {},
   "outputs": [],
   "source": []
  }
 ],
 "metadata": {
  "kernelspec": {
   "display_name": "Python 3",
   "language": "python",
   "name": "python3"
  },
  "language_info": {
   "codemirror_mode": {
    "name": "ipython",
    "version": 3
   },
   "file_extension": ".py",
   "mimetype": "text/x-python",
   "name": "python",
   "nbconvert_exporter": "python",
   "pygments_lexer": "ipython3",
   "version": "3.9.4"
  }
 },
 "nbformat": 4,
 "nbformat_minor": 5
}
