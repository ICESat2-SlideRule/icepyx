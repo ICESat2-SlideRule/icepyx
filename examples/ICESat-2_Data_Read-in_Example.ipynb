{
 "cells": [
  {
   "cell_type": "markdown",
   "id": "552e9ef9",
   "metadata": {},
   "source": [
    "## Reading ICESat-2 Data\n",
    "### Basic Data Read-in Example Notebook\n",
    "This notebook illustrates the use of icepyx for reading ICESat-2 data files, loading them into a data object.\n",
    "Currently the default data object is an Xarray Dataset, with ongoing work to provide support for other data object types.\n",
    "\n",
    "### Motivation\n",
    "Most often, when you open a data file, you must specify the underlying data structure and how you'd like the information to be read in.\n",
    "A simple example of this, for instance when opening a csv or similarly delimited file, is letting the software know if the data contains a header row, what the data type is (string, double, float, boolean, etc.) for each column, what the delimeter is, and which columns or rows you'd like to be loaded.\n",
    "Many ICESat-2 data readers are quite manual in nature, requiring that you accurately type out a list of string paths to the various data variables.\n",
    "\n",
    "icepyx simplifies this process by relying on its awareness of ICESat-2 specific data file variable storage structure.\n",
    "Instead of needing to manually iterate through the beam pairs, you can provide a few options to the `Read` object and icepyx will do the heavy lifting for you (as detailed in this notebook).\n",
    "\n",
    "### Approach\n",
    "If you're interested in what's happening under the hood: icepyx turns your instructions into something called a catalog, then uses the Intake library and the catalog to actually load the data into memory. Specifically, icepyx creates an [Intake](https://intake.readthedocs.io/en/latest/) data [catalog](https://intake.readthedocs.io/en/latest/catalog.html) for each requested variable and then merges the read-in data from each of the variables to create a single data object.\n",
    "\n",
    "Intake catalogs are powerful (and the tool we selected) because they can be saved, shared, modified, and reused to reproducibly read in a set of data files in a consistent way as part of an analysis workflow.\n",
    "This approach streamlines the transition between data sources (local/downloaded files or, ultimately, cloud/bucket access) and data object types (e.g. [Xarray Dataset](http://xarray.pydata.org/en/stable/generated/xarray.Dataset.html) or [GeoPandas GeoDataFrame](https://geopandas.org/docs/reference/api/geopandas.GeoDataFrame.html)).\n",
    "\n",
    "#### Credits\n",
    "* original notebook by: Jessica Scheick\n",
    "* notebook contributors: \n",
    "* templates for default ICESat-2 Intake catalogs from: [Wei Ji]() and [Tian]().\n"
   ]
  },
  {
   "cell_type": "markdown",
   "id": "0d360de3",
   "metadata": {},
   "source": [
    "### Import packages, including icepyx"
   ]
  },
  {
   "cell_type": "code",
   "execution_count": null,
   "id": "2b74b672",
   "metadata": {},
   "outputs": [],
   "source": [
    "%load_ext autoreload\n",
    "import icepyx as ipx\n",
    "%autoreload 2"
   ]
  },
  {
   "cell_type": "code",
   "execution_count": null,
   "id": "72ab65dc",
   "metadata": {},
   "outputs": [],
   "source": [
    "import os\n",
    "import fnmatch\n",
    "import glob\n",
    "import pathlib\n",
    "import fsspec\n",
    "from fsspec.implementations.local import LocalFileSystem"
   ]
  },
  {
   "cell_type": "markdown",
   "id": "dab8f0ea",
   "metadata": {},
   "source": [
    "https://github.com/OSOceanAcoustics/echopype/blob/ab5128fb8580f135d875580f0469e5fba3193b84/echopype/utils/io.py\n",
    "https://filesystem-spec.readthedocs.io/en/latest/api.html?highlight=get_map#fsspec.spec.AbstractFileSystem.glob\n",
    "https://filesystem-spec.readthedocs.io/en/latest/_modules/fsspec/implementations/local.html\n",
    "https://github.com/OSOceanAcoustics/echopype/blob/ab5128fb8580f135d875580f0469e5fba3193b84/echopype/convert/api.py#L380\n",
    "https://echopype.readthedocs.io/en/stable/convert.html\n"
   ]
  },
  {
   "cell_type": "code",
   "execution_count": null,
   "id": "7a84d263",
   "metadata": {},
   "outputs": [],
   "source": []
  },
  {
   "cell_type": "code",
   "execution_count": null,
   "id": "a622a60e",
   "metadata": {},
   "outputs": [],
   "source": []
  },
  {
   "cell_type": "code",
   "execution_count": null,
   "id": "07a891ec",
   "metadata": {},
   "outputs": [],
   "source": [
    "lfs = LocalFileSystem()"
   ]
  },
  {
   "cell_type": "code",
   "execution_count": null,
   "id": "6bf5b474",
   "metadata": {},
   "outputs": [],
   "source": [
    "lfs"
   ]
  },
  {
   "cell_type": "code",
   "execution_count": null,
   "id": "24266bf6",
   "metadata": {},
   "outputs": [],
   "source": [
    "lfs.ls(\"/\")"
   ]
  },
  {
   "cell_type": "code",
   "execution_count": null,
   "id": "941f79b9",
   "metadata": {},
   "outputs": [],
   "source": [
    "fsmap = fsspec.get_mapper(str(path))\n",
    "output_fs = fsmap.fs"
   ]
  },
  {
   "cell_type": "code",
   "execution_count": null,
   "id": "a041cc68",
   "metadata": {},
   "outputs": [],
   "source": [
    "output_fs.ls()"
   ]
  },
  {
   "cell_type": "code",
   "execution_count": null,
   "id": "889e4f63",
   "metadata": {},
   "outputs": [],
   "source": [
    "output_fs"
   ]
  },
  {
   "cell_type": "code",
   "execution_count": null,
   "id": "df2e626a",
   "metadata": {},
   "outputs": [],
   "source": [
    "source_file, file_format\n",
    "\n",
    "\n",
    "if not isinstance(save_path, Path) and not isinstance(save_path, str):\n",
    "            raise TypeError(\"save_path must be a string or Path\")\n",
    "\n",
    "        fsmap = fsspec.get_mapper(str(save_path), **output_storage_options)\n",
    "        output_fs = fsmap.fs\n",
    "\n",
    "        # Use the full path such as s3://... if it's not local, otherwise use root\n",
    "        if isinstance(output_fs, LocalFileSystem):\n",
    "            root = fsmap.root\n",
    "        else:\n",
    "            root = save_path\n",
    "        if Path(root).suffix == \"\":  # directory\n",
    "            out_dir = root\n",
    "            out_path = os.path.join(root, Path(source_file).stem + file_format)\n",
    "        else:  # file\n",
    "            out_dir = os.path.dirname(root)\n",
    "            out_path = os.path.join(out_dir, Path(root).stem + file_format)"
   ]
  },
  {
   "cell_type": "code",
   "execution_count": null,
   "id": "4f1f6adc",
   "metadata": {},
   "outputs": [],
   "source": []
  },
  {
   "cell_type": "code",
   "execution_count": null,
   "id": "8d9b84dd",
   "metadata": {},
   "outputs": [],
   "source": []
  },
  {
   "cell_type": "markdown",
   "id": "e8da42c1",
   "metadata": {},
   "source": [
    "### Set data source path\n",
    "\n",
    "Provide a full path to the data to be read in (i.e. opened).\n",
    "Currently accepted inputs are:\n",
    "* a directory\n",
    "* a single file\n",
    "\n",
    "All files to be read in *must* have a consistent filename pattern.\n",
    "If a directory is supplied as the data source, all files in any subdirectories that match the filename pattern will be included.\n",
    "\n",
    "S3 bucket data access is currently under development, and requires you are registered with NSIDC as a beta tester for cloud-based ICESat-2 data.\n",
    "icepyx is working to ensure a smooth transition to working with remote files.\n",
    "We'd love your help exploring and testing these features as they become available!"
   ]
  },
  {
   "cell_type": "code",
   "execution_count": null,
   "id": "e683ebf7",
   "metadata": {},
   "outputs": [],
   "source": [
    "urlpath = 's3://nsidc-cumulus-prod-protected/ATLAS/ATL03/004/2019/11/30/ATL03_20191130221008_09930503_004_01.h5'"
   ]
  },
  {
   "cell_type": "code",
   "execution_count": null,
   "id": "8b6edf0c",
   "metadata": {},
   "outputs": [],
   "source": [
    "filepath = '/Users/jessica/computing/icepyx/test_data/ATL06-20181214041627-Sample.h5'"
   ]
  },
  {
   "cell_type": "code",
   "execution_count": null,
   "id": "9cde6679",
   "metadata": {},
   "outputs": [],
   "source": [
    "path = '/Users/jessica/computing/icepyx/test_data/'"
   ]
  },
  {
   "cell_type": "code",
   "execution_count": null,
   "id": "8fcfc887",
   "metadata": {},
   "outputs": [],
   "source": [
    "filepath2 = '/Users/jessica/computing/icepyx/test_data/test_subdir/ATL03_20191130221008_09930503_004_01.h5'"
   ]
  },
  {
   "cell_type": "markdown",
   "id": "92743496",
   "metadata": {},
   "source": [
    "### Create a filename pattern for your data files\n",
    "\n",
    "Files provided by NSIDC match the format `\"ATL{product:2}_{datetime:%Y%m%d%H%M%S}_{rgt:4}{cycle:2}{orbitsegment:2}_{version:3}_{revision:2}.h5\"` where the parameters in curly brackets indicate a parameter name (left of the colin) and character length or format (right of the colin).\n",
    "Some of this information is used during data opening to help correctly read and label the data within the data structure, particularly when multiple files are opened simultaneously.\n",
    "\n",
    "By default, icepyx will assume your filenames follow the default format.\n",
    "However, you can easily read in other ICESat-2 data files by supplying your own filename pattern.\n",
    "For instance, `pattern=\"ATL{product:2}-{datetime:%Y%m%d%H%M%S}-Sample.h5\"`."
   ]
  },
  {
   "cell_type": "code",
   "execution_count": null,
   "id": "7318abd0",
   "metadata": {},
   "outputs": [],
   "source": [
    "pattern = 'ATL06-{datetime:%Y%m%d%H%M%S}-Sample.h5'\n",
    "# pattern = 'ATL{product:2}-{datetime:%Y%m%d%H%M%S}-Sample.h5'"
   ]
  },
  {
   "cell_type": "code",
   "execution_count": null,
   "id": "f43e8664",
   "metadata": {},
   "outputs": [],
   "source": [
    "pattern = \"ATL{product:2}_{datetime:%Y%m%d%H%M%S}_{rgt:4}{cycle:2}{orbitsegment:2}_{version:3}_{revision:2}.h5\""
   ]
  },
  {
   "cell_type": "markdown",
   "id": "4275b04c",
   "metadata": {},
   "source": [
    "### Create an icepyx read object"
   ]
  },
  {
   "cell_type": "code",
   "execution_count": null,
   "id": "39bd7eb8",
   "metadata": {
    "scrolled": true
   },
   "outputs": [],
   "source": [
    "reader = ipx.Read(path, \"ATL06\", pattern) # or ipx.Read(filepath, \"ATLXX\") if your filenames match the defualt pattern"
   ]
  },
  {
   "cell_type": "code",
   "execution_count": null,
   "id": "6c9ebc4a",
   "metadata": {},
   "outputs": [],
   "source": [
    "# DEL\n",
    "reader._filelist"
   ]
  },
  {
   "cell_type": "markdown",
   "id": "da8d8024",
   "metadata": {},
   "source": [
    "### Specify variables to be read in\n",
    "\n",
    "To load your data into memory or prepare it for analysis, icepyx needs is which variables you'd like to read in.\n",
    "If you've used icepyx to download data from NSIDC with variable subsetting (which is the default), then you may already be familiar with the icepyx `Variables` module and how to create and modify lists of variables.\n",
    "We showcase a specific case here, but we encourage you to check out [this subsetting example - maybe rebranded to subsetting/variable navigation?]() for a thorough trip through how to create and manipulate lists of ICESat-2 variable paths (examples are provided for multiple data products).\n",
    "\n",
    "You can use a default list that loads commonly used variables for your data product, or create your own list of variables to be read in.\n",
    "icepyx will determine what variables are available for you to read in by creating a list from one of your source files.\n",
    "If you have multiple files that you're reading in, icepyx will automatically generate a list of filenames and take the first one to get the list of available variables.\n",
    "\n",
    "Thus, if you have different variables available across files (even from the same data product), you may run into issues and need to come up with a workaround (we can help you do so!).\n",
    "We anticipate most users will have the minimum set of variables they are seeking to load available across all data files, so we're not currently developing this feature.\n",
    "Please get in touch if it would be a helpful feature for you or if you encounter this problem!"
   ]
  },
  {
   "cell_type": "markdown",
   "id": "55092d1b",
   "metadata": {},
   "source": [
    "For a basic case, let's say we want to read in height, latitude, and longitude for all beam pairs.\n",
    "We create our variables list as"
   ]
  },
  {
   "cell_type": "code",
   "execution_count": null,
   "id": "e3734e09",
   "metadata": {},
   "outputs": [],
   "source": [
    "# reader.vars.append(var_list=['h_li', \"latitude\", \"longitude\"])\n",
    "reader.vars.append(beam_list=['gt1l'], var_list=['h_li', \"latitude\", \"longitude\"])"
   ]
  },
  {
   "cell_type": "markdown",
   "id": "fff0bb19",
   "metadata": {},
   "source": [
    "Then we can view a dictionary of the variables we'd like to read in."
   ]
  },
  {
   "cell_type": "code",
   "execution_count": null,
   "id": "e5456e36",
   "metadata": {},
   "outputs": [],
   "source": [
    "reader.vars.wanted"
   ]
  },
  {
   "cell_type": "markdown",
   "id": "9d5b50b5",
   "metadata": {},
   "source": [
    "Don't forget - if you need to start over generating your wanted variables list, it's easy!"
   ]
  },
  {
   "cell_type": "code",
   "execution_count": null,
   "id": "69894391",
   "metadata": {},
   "outputs": [],
   "source": [
    "reader.vars.remove(all=True)"
   ]
  },
  {
   "cell_type": "code",
   "execution_count": null,
   "id": "ff158810",
   "metadata": {},
   "outputs": [],
   "source": []
  },
  {
   "cell_type": "code",
   "execution_count": null,
   "id": "09d08391",
   "metadata": {},
   "outputs": [],
   "source": []
  },
  {
   "cell_type": "code",
   "execution_count": null,
   "id": "18d5191e",
   "metadata": {
    "scrolled": true
   },
   "outputs": [],
   "source": [
    "wanted_groups = ipx.core.variables.list_of_dict_vals(reader.vars.wanted)"
   ]
  },
  {
   "cell_type": "code",
   "execution_count": null,
   "id": "35187af3",
   "metadata": {},
   "outputs": [],
   "source": [
    "vgrp, paths = ipx.core.variables.Variables.parse_var_list(wanted_groups, tiered=True)\n",
    "print(vgrp)\n",
    "print(paths)\n",
    "print(set(paths))"
   ]
  },
  {
   "cell_type": "code",
   "execution_count": null,
   "id": "c171eca0",
   "metadata": {},
   "outputs": [],
   "source": [
    "print(list(vgrp.keys()))"
   ]
  },
  {
   "cell_type": "code",
   "execution_count": null,
   "id": "dd02d3ec",
   "metadata": {},
   "outputs": [],
   "source": [
    "# idx = [1 if x == 'ancillary_data' else 0 for i,x in enumerate(paths[0])]\n",
    "# idx = [i for i,x in enumerate(paths[0]) if x == 'ancillary_data']\n",
    "\n",
    "grp_spec_vars = [list(vgrp.keys())[i] for i,x in enumerate(paths[0]+'/'+paths[1]) if x == 'gt1l/land_ice_segments']"
   ]
  },
  {
   "cell_type": "code",
   "execution_count": null,
   "id": "2654d3f8",
   "metadata": {},
   "outputs": [],
   "source": [
    "grp_spec_vars"
   ]
  },
  {
   "cell_type": "code",
   "execution_count": null,
   "id": "3c601e66",
   "metadata": {},
   "outputs": [],
   "source": []
  },
  {
   "cell_type": "code",
   "execution_count": null,
   "id": "1593c1fb",
   "metadata": {},
   "outputs": [],
   "source": [
    "var_path = 'gt1l/land_ice_segments'"
   ]
  },
  {
   "cell_type": "code",
   "execution_count": null,
   "id": "b566e240",
   "metadata": {},
   "outputs": [],
   "source": [
    "_, paths = ipx.core.variables.Variables.parse_var_list(wanted_groups)"
   ]
  },
  {
   "cell_type": "code",
   "execution_count": null,
   "id": "4c153edb",
   "metadata": {},
   "outputs": [],
   "source": [
    "print(_)\n",
    "print(paths)"
   ]
  },
  {
   "cell_type": "code",
   "execution_count": null,
   "id": "edbab3dc",
   "metadata": {},
   "outputs": [],
   "source": [
    "reader.vars._iter_vars(reader.vars.wanted, {}, vgrp)"
   ]
  },
  {
   "cell_type": "code",
   "execution_count": null,
   "id": "128338cf",
   "metadata": {},
   "outputs": [],
   "source": [
    "reader.vars._iter_paths(reader.vars.wanted, {}, vgrp, paths[0], paths[1])"
   ]
  },
  {
   "cell_type": "code",
   "execution_count": null,
   "id": "b31013a6",
   "metadata": {},
   "outputs": [],
   "source": []
  },
  {
   "cell_type": "code",
   "execution_count": null,
   "id": "b0967782",
   "metadata": {
    "scrolled": true
   },
   "outputs": [],
   "source": [
    "reader.vars.avail()"
   ]
  },
  {
   "cell_type": "markdown",
   "id": "473de4d7",
   "metadata": {},
   "source": [
    "### Loading your data\n",
    "\n",
    "Now that you've set up all the options, you're ready to read your ICESat-2 data into memory!"
   ]
  },
  {
   "cell_type": "code",
   "execution_count": null,
   "id": "eaabc976",
   "metadata": {
    "scrolled": false
   },
   "outputs": [],
   "source": [
    "ds = reader.load()"
   ]
  },
  {
   "cell_type": "code",
   "execution_count": null,
   "id": "b3e3a247",
   "metadata": {},
   "outputs": [],
   "source": [
    "ds[0]"
   ]
  },
  {
   "cell_type": "code",
   "execution_count": null,
   "id": "7e0591e9",
   "metadata": {},
   "outputs": [],
   "source": [
    "# next step (but another PR): xarray extension with icesat-2 aware functions (like \"get_strong_beams\", etc.)"
   ]
  },
  {
   "cell_type": "code",
   "execution_count": null,
   "id": "976f532d",
   "metadata": {},
   "outputs": [],
   "source": [
    "# ds[0]['crossing_time'].values\n",
    "ds[0][\"rgt\"].values"
   ]
  },
  {
   "cell_type": "code",
   "execution_count": null,
   "id": "b90be150",
   "metadata": {},
   "outputs": [],
   "source": [
    "ds[0][0][0].variables"
   ]
  },
  {
   "cell_type": "code",
   "execution_count": null,
   "id": "08a2c318",
   "metadata": {},
   "outputs": [],
   "source": []
  },
  {
   "cell_type": "code",
   "execution_count": null,
   "id": "523e0b45",
   "metadata": {},
   "outputs": [],
   "source": [
    "import h5py"
   ]
  },
  {
   "cell_type": "code",
   "execution_count": null,
   "id": "f48c9282",
   "metadata": {},
   "outputs": [],
   "source": [
    "with h5py.File(filepath, \"r\") as fi:\n",
    "            try:\n",
    "\n",
    "                # Read in varibales of interest (more can be added!)\n",
    "                dac = fi[group[k] + \"/land_ice_segments/geophysical/dac\"][:]\n",
    "                lat = fi[group[k] + \"/land_ice_segments/latitude\"][:]\n",
    "                lon = fi[group[k] + \"/land_ice_segments/longitude\"][:]\n",
    "            except:\n",
    "                pass"
   ]
  },
  {
   "cell_type": "code",
   "execution_count": null,
   "id": "52a487b0",
   "metadata": {},
   "outputs": [],
   "source": [
    "fi = h5py.File(filepath, \"r\")"
   ]
  },
  {
   "cell_type": "code",
   "execution_count": null,
   "id": "51edf87d",
   "metadata": {},
   "outputs": [],
   "source": [
    "print(fi[\"gt1l\"].attrs.keys())\n",
    "print(fi[\"gt1l\"].attrs[\"atlas_spot_number\"])\n",
    "print(fi[\"gt1l\"].attrs[\"sc_orientation\"])"
   ]
  },
  {
   "cell_type": "code",
   "execution_count": null,
   "id": "efa20750",
   "metadata": {},
   "outputs": [],
   "source": [
    "grp = fi[\"ancillary_data\"]"
   ]
  },
  {
   "cell_type": "code",
   "execution_count": null,
   "id": "64903bd3",
   "metadata": {},
   "outputs": [],
   "source": [
    "def add_item(item):\n",
    "    print(item)\n",
    "    return item\n",
    "    \n",
    "for var in grp.visit(add_item):\n",
    "    print(grp.visititems(var))"
   ]
  },
  {
   "cell_type": "code",
   "execution_count": null,
   "id": "5eda6fb0",
   "metadata": {},
   "outputs": [],
   "source": []
  },
  {
   "cell_type": "code",
   "execution_count": null,
   "id": "74c9db8c",
   "metadata": {},
   "outputs": [],
   "source": []
  },
  {
   "cell_type": "markdown",
   "id": "6edfbb25",
   "metadata": {},
   "source": [
    "### More on Intake catalogs and the read object\n",
    "\n",
    "As anyone familiar with ICESat-2 hdf5 files knows, one of the challenges to reading in data is looping through all of the beam pairs for each track.\n",
    "The icepyx read module takes advantage of icepyx's variables module, which has some awareness of ICESat-2 data and uses that to save the user the trouble of having to loop through each beam pair.\n",
    "The `reader.load()` function does this by automatically creating minimal Intake catalogs for each variable path, reading in the data, and merging each variable into a ready-to-analyze Xarray DataSet.\n",
    "The Intake savvy user may wish to view the template catalog or use an existing catalog."
   ]
  },
  {
   "cell_type": "markdown",
   "id": "0f0076f9",
   "metadata": {},
   "source": [
    "#### Viewing the template catalog\n",
    "\n",
    "You can access the ICESat-2 catalog template as an attribute of the read object.\n",
    "\n",
    "***NOTE: accessing `reader.is2catalog` creates a template with a placeholder in the 'group' parameter; thus, it will not work to actually read in data***"
   ]
  },
  {
   "cell_type": "code",
   "execution_count": null,
   "id": "2de29fd8",
   "metadata": {
    "scrolled": true
   },
   "outputs": [],
   "source": [
    "reader.is2catalog"
   ]
  },
  {
   "cell_type": "code",
   "execution_count": null,
   "id": "7a5deef8",
   "metadata": {},
   "outputs": [],
   "source": [
    "reader.is2catalog.gui"
   ]
  },
  {
   "cell_type": "markdown",
   "id": "fef43556",
   "metadata": {},
   "source": [
    "#### Use an existing catalog\n",
    "If you already have a catalog for your data, you can supply that when you create the read object."
   ]
  },
  {
   "cell_type": "code",
   "execution_count": null,
   "id": "64986a60",
   "metadata": {},
   "outputs": [],
   "source": [
    "catpath = '/Users/jessica/computing/icepyx/test_data/test_catalog.yml'\n",
    "reader = ipx.Read(filepath, pattern, catpath)"
   ]
  },
  {
   "cell_type": "markdown",
   "id": "cf930e0a",
   "metadata": {},
   "source": [
    "Then, you can use the catalog you supplied by calling intake's `read` directly to read in the specified data variable."
   ]
  },
  {
   "cell_type": "code",
   "execution_count": null,
   "id": "dd0e086a",
   "metadata": {},
   "outputs": [],
   "source": [
    "ds = reader.is2catalog.read()"
   ]
  },
  {
   "cell_type": "markdown",
   "id": "60b1a304",
   "metadata": {},
   "source": [
    "***NOTE: this means that you will only be able to read in a single data variable!***\n",
    "\n",
    "To take advantage of icepyx's knowledge of ICESat-2 data nesting of beam pairs and read in multiple related variables at once, you must use the variable approach outlined earlier in this tutorial."
   ]
  },
  {
   "cell_type": "code",
   "execution_count": null,
   "id": "f5e3a221",
   "metadata": {},
   "outputs": [],
   "source": [
    "ds = reader.load()\n",
    "ds"
   ]
  },
  {
   "cell_type": "markdown",
   "id": "d56fc41c",
   "metadata": {},
   "source": [
    "#### More customization options\n",
    "\n",
    "If you'd like to use the icepyx ICESat-2 Catalog template to create your own customized catalog, we recommend that you access the `build_catalog` function directly, which returns an Intake Catalog instance.\n",
    "\n",
    "This function accepts as keyword input arguments (kwargs) dictionaries with appropriate keys (depending on the Intake driver you are using).\n",
    "The simplest version of this is specifying the variable parameters and paths of interest.\n",
    "`var_paths` may contain \"variables\", each of which must then be further defined by `var_path_params`.\n",
    "You cannot use glob-like path syntax to access variables (so `var_path = '/*/land_ice_segments'` is NOT VALID)."
   ]
  },
  {
   "cell_type": "code",
   "execution_count": null,
   "id": "f174f885",
   "metadata": {
    "scrolled": true
   },
   "outputs": [],
   "source": [
    "import icepyx.core.is2cat as is2cat\n",
    "\n",
    "# build a custom ICESat-2 catalog with a group and parameter\n",
    "cat = is2cat.build_catalog(var_paths = \"/{{laser}}/land_ice_segments\",\n",
    "                     var_path_params = [{\"name\": \"laser\",\n",
    "                                         \"description\": \"Laser Beam Number\",\n",
    "                                         \"type\": \"str\",\n",
    "                                         \"default\": \"gt1l\",\n",
    "                                         \"allowed\": [\"gt1l\", \"gt1r\", \"gt2l\", \"gt2r\", \"gt3l\", \"gt3r\"]\n",
    "                                        }]\n",
    "                    )"
   ]
  },
  {
   "cell_type": "markdown",
   "id": "bab9c949",
   "metadata": {},
   "source": [
    "#### Saving your catalog\n",
    "If you create a highly customized ICESat-2 catalog, you can use Intake's `save` to export it as a .yml file.\n",
    "\n",
    "Don't forget you can easily use an existing catalog (such as this highly customized one you just made) to read in your data with `reader = ipx.Read(filepath, pattern, catalog)` (so it's as easy as re-creating your reader object with your modified catalog)."
   ]
  },
  {
   "cell_type": "code",
   "execution_count": null,
   "id": "30f0122a",
   "metadata": {},
   "outputs": [],
   "source": [
    "catpath = '/Users/jessica/computing/icepyx/test_data/test_catalog.yml'\n",
    "cat.save(catpath)"
   ]
  },
  {
   "cell_type": "code",
   "execution_count": null,
   "id": "330c01f9",
   "metadata": {},
   "outputs": [],
   "source": [
    "# DEL\n",
    "readcatalog = intake.open_catalog(catpath)"
   ]
  }
 ],
 "metadata": {
  "kernelspec": {
   "display_name": "Python 3",
   "language": "python",
   "name": "python3"
  },
  "language_info": {
   "codemirror_mode": {
    "name": "ipython",
    "version": 3
   },
   "file_extension": ".py",
   "mimetype": "text/x-python",
   "name": "python",
   "nbconvert_exporter": "python",
   "pygments_lexer": "ipython3",
   "version": "3.9.4"
  }
 },
 "nbformat": 4,
 "nbformat_minor": 5
}
