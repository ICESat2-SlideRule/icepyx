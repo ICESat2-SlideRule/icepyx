{
 "cells": [
  {
   "cell_type": "markdown",
   "id": "552e9ef9",
   "metadata": {},
   "source": [
    "## Reading ICESat-2 Data\n",
    "### Basic Data Read-in Example Notebook\n",
    "This notebook illustrates the use of icepyx for reading ICESat-2 data files, loading them into a data object.\n",
    "Currently the default data object is an Xarray Dataset, with ongoing work to provide support for other data object types.\n",
    "\n",
    "To read in the data, icepyx creates an [Intake](https://intake.readthedocs.io/en/latest/) data [catalog](https://intake.readthedocs.io/en/latest/catalog.html), which can be saved, shared, modified, and reused to reproducibly read in a set of data files in a consistent way as part of an analysis workflow.\n",
    "This approach streamlines the transition between data sources (local/downloaded files or, ultimately, cloud/bucket access) and data object types (e.g. [Xarray Dataset](http://xarray.pydata.org/en/stable/generated/xarray.Dataset.html) or [GeoPandas GeoDataFrame](https://geopandas.org/docs/reference/api/geopandas.GeoDataFrame.html)).\n",
    "\n",
    "#### Credits\n",
    "* original notebook by: Jessica Scheick\n",
    "* notebook contributors: \n",
    "* templates for default ICESat-2 Intake catalogs from: [WeiJi]() and [Tian]().\n"
   ]
  },
  {
   "cell_type": "markdown",
   "id": "0d360de3",
   "metadata": {},
   "source": [
    "### Import packages, including icepyx"
   ]
  },
  {
   "cell_type": "code",
   "execution_count": null,
   "id": "2b74b672",
   "metadata": {},
   "outputs": [],
   "source": [
    "%load_ext autoreload\n",
    "import icepyx as ipx\n",
    "%autoreload 2"
   ]
  },
  {
   "cell_type": "code",
   "execution_count": null,
   "id": "72ab65dc",
   "metadata": {},
   "outputs": [],
   "source": [
    "import os\n",
    "import fnmatch\n",
    "import glob\n",
    "import pathlib\n",
    "import fsspec\n",
    "from fsspec.implementations.local import LocalFileSystem"
   ]
  },
  {
   "cell_type": "code",
   "execution_count": null,
   "id": "3196919d",
   "metadata": {},
   "outputs": [],
   "source": []
  },
  {
   "cell_type": "code",
   "execution_count": null,
   "id": "7a84d263",
   "metadata": {},
   "outputs": [],
   "source": []
  },
  {
   "cell_type": "code",
   "execution_count": null,
   "id": "a622a60e",
   "metadata": {},
   "outputs": [],
   "source": []
  },
  {
   "cell_type": "code",
   "execution_count": null,
   "id": "07a891ec",
   "metadata": {},
   "outputs": [],
   "source": [
    "lfs = LocalFileSystem()"
   ]
  },
  {
   "cell_type": "code",
   "execution_count": null,
   "id": "6bf5b474",
   "metadata": {},
   "outputs": [],
   "source": [
    "lfs"
   ]
  },
  {
   "cell_type": "code",
   "execution_count": null,
   "id": "24266bf6",
   "metadata": {},
   "outputs": [],
   "source": [
    "lfs.ls(\"/\")"
   ]
  },
  {
   "cell_type": "code",
   "execution_count": null,
   "id": "941f79b9",
   "metadata": {},
   "outputs": [],
   "source": [
    "fsmap = fsspec.get_mapper(str(path))\n",
    "output_fs = fsmap.fs"
   ]
  },
  {
   "cell_type": "code",
   "execution_count": null,
   "id": "a041cc68",
   "metadata": {},
   "outputs": [],
   "source": [
    "output_fs.ls()"
   ]
  },
  {
   "cell_type": "code",
   "execution_count": null,
   "id": "889e4f63",
   "metadata": {},
   "outputs": [],
   "source": [
    "output_fs"
   ]
  },
  {
   "cell_type": "code",
   "execution_count": null,
   "id": "4f1f6adc",
   "metadata": {},
   "outputs": [],
   "source": []
  },
  {
   "cell_type": "markdown",
   "id": "e8da42c1",
   "metadata": {},
   "source": [
    "### Set data source path\n",
    "\n",
    "Provide a full path to the data to be read in (i.e. opened).\n",
    "Currently accepted inputs are:\n",
    "* a directory\n",
    "* a single file\n",
    "\n",
    "All files to be read in *must* have a consistent filename pattern.\n",
    "If a directory is supplied as the data source, all files in any subdirectories that match the filename pattern will be included.\n",
    "\n",
    "S3 bucket data access is currently under development, and requires you are registered with NSIDC as a beta tester for cloud-based ICESat-2 data.\n",
    "icepyx is working to ensure a smooth transition to working with remote files.\n",
    "We'd love your help exploring and testing these features as they become available!"
   ]
  },
  {
   "cell_type": "code",
   "execution_count": null,
   "id": "e683ebf7",
   "metadata": {},
   "outputs": [],
   "source": [
    "urlpath = 's3://nsidc-cumulus-prod-protected/ATLAS/ATL03/004/2019/11/30/ATL03_20191130221008_09930503_004_01.h5'"
   ]
  },
  {
   "cell_type": "code",
   "execution_count": null,
   "id": "8b6edf0c",
   "metadata": {},
   "outputs": [],
   "source": [
    "filepath = '/Users/jessica/computing/icepyx/test_data/ATL06-20181214041627-Sample.h5'"
   ]
  },
  {
   "cell_type": "code",
   "execution_count": null,
   "id": "9cde6679",
   "metadata": {},
   "outputs": [],
   "source": [
    "path = '/Users/jessica/computing/icepyx/test_data/'"
   ]
  },
  {
   "cell_type": "code",
   "execution_count": null,
   "id": "8fcfc887",
   "metadata": {},
   "outputs": [],
   "source": [
    "filepath2 = '/Users/jessica/computing/icepyx/test_data/test_subdir/ATL03_20191130221008_09930503_004_01.h5'"
   ]
  },
  {
   "cell_type": "markdown",
   "id": "92743496",
   "metadata": {},
   "source": [
    "### Create a filename pattern for your data files\n",
    "\n",
    "Files provided by NSIDC match the format `\"ATL{product:2}_{datetime:%Y%m%d%H%M%S}_{rgt:4}{cycle:2}{orbitsegment:2}_{version:3}_{revision:2}.h5\"` where the parameters in curly brackets indicate a parameter name (left of the colin) and character length or format (right of the colin).\n",
    "Some of this information is used during data opening to help correctly read and label the data within the data structure, particularly when multiple files are opened simultaneously.\n",
    "\n",
    "By default, icepyx will assume your filenames follow the default format.\n",
    "However, you can easily read in other ICESat-2 data files by supplying your own filename pattern.\n",
    "For instance, `pattern=\"ATL{product:2}-{datetime:%Y%m%d%H%M%S}-Sample.h5\"`."
   ]
  },
  {
   "cell_type": "code",
   "execution_count": null,
   "id": "7318abd0",
   "metadata": {},
   "outputs": [],
   "source": [
    "pattern = 'ATL{product:2}-{datetime:%Y%m%d%H%M%S}-Sample.h5'"
   ]
  },
  {
   "cell_type": "code",
   "execution_count": null,
   "id": "f43e8664",
   "metadata": {},
   "outputs": [],
   "source": [
    "pattern = \"ATL{product:2}_{datetime:%Y%m%d%H%M%S}_{rgt:4}{cycle:2}{orbitsegment:2}_{version:3}_{revision:2}.h5\""
   ]
  },
  {
   "cell_type": "markdown",
   "id": "4275b04c",
   "metadata": {},
   "source": [
    "### Create an icepyx read object"
   ]
  },
  {
   "cell_type": "code",
   "execution_count": null,
   "id": "39bd7eb8",
   "metadata": {
    "scrolled": true
   },
   "outputs": [],
   "source": [
    "reader = ipx.Read(filepath, pattern) # or ipx.Read(filepath) if your filenames match the defualt pattern"
   ]
  },
  {
   "cell_type": "code",
   "execution_count": null,
   "id": "e3734e09",
   "metadata": {},
   "outputs": [],
   "source": []
  },
  {
   "cell_type": "code",
   "execution_count": null,
   "id": "87618c4a",
   "metadata": {},
   "outputs": [],
   "source": []
  },
  {
   "cell_type": "markdown",
   "id": "da8d8024",
   "metadata": {},
   "source": [
    "### Use a catalog to read-in data\n",
    "\n",
    "When you open a data file, you must specify the underlying data structure and how you'd like the information to be read in.\n",
    "A simple example of this, for instance when opening a csv or similarly delimited file, is letting the software know if the data contains a header row, what the data type is (string, double, float, boolean, etc.) for each column, what the delimeter is, and which columns or rows you'd like to be loaded.\n",
    "Many ICESat-2 data readers are quite manual in nature, requiring that you accurately type out a list of string paths to the various data variables.\n",
    "\n",
    "`code example here???`\n",
    "\n",
    "Intake minimizes that effort by allowing you to instead specify string path patterns within your data structure.\n",
    "\n",
    "`example of that here...`\n",
    "\n",
    "icepyx simplifies this process one step further by relying on its awareness of ICESat-2 specific data file variable storage structure.\n",
    "You can use a default list that loads commonly used variables for your data product, or create your own list of variables to be read in.\n",
    "\n",
    "These instructions for how the software should read in your data are formatted into something called a catalog.\n",
    "\n",
    "#### Load in an existing catalog\n",
    "If you already have a catalog for your data, you can supply that when you create the read object."
   ]
  },
  {
   "cell_type": "code",
   "execution_count": null,
   "id": "64986a60",
   "metadata": {},
   "outputs": [],
   "source": [
    "catpath = '/Users/jessica/computing/icepyx/test_data/test_catalog.yml'\n",
    "reader = ipx.Read(filepath, pattern, catpath)"
   ]
  },
  {
   "cell_type": "markdown",
   "id": "66ab7bbc",
   "metadata": {},
   "source": [
    "#### Quickly build a catalog\n",
    "Alternatively, you can easily build a default or custom catalog."
   ]
  },
  {
   "cell_type": "code",
   "execution_count": null,
   "id": "09d5c765",
   "metadata": {},
   "outputs": [],
   "source": [
    "# build a default ICESat-2 catalog\n",
    "reader.build_catalog()"
   ]
  },
  {
   "cell_type": "markdown",
   "id": "d56fc41c",
   "metadata": {},
   "source": [
    "#### More customization options\n",
    "\n",
    "For users wishing to further customize their Intake catalog, dictionaries with appropriate keys (depending on the Intake driver you are using) may be entered as keyword arguments (kwargs) to `build_catalog`.\n",
    "The simplest version of this is specifying the variable parameters and paths of interest.\n",
    "`var_paths` may contain \"variables\", each of which must then be further defined by `var_path_params`.\n",
    "You cannot use glob-like path syntax to access variables (so `var_path = '/*/land_ice_segments'` is NOT VALID)."
   ]
  },
  {
   "cell_type": "code",
   "execution_count": null,
   "id": "c236281d",
   "metadata": {},
   "outputs": [],
   "source": [
    "# build a custom ICESat-2 catalog - specific path\n",
    "reader.build_catalog(var_paths=\"/gt3r/land_ice_segments\")"
   ]
  },
  {
   "cell_type": "code",
   "execution_count": null,
   "id": "f174f885",
   "metadata": {
    "scrolled": true
   },
   "outputs": [],
   "source": [
    "# build a custom ICESat-2 catalog - general path\n",
    "reader.build_catalog(var_paths = \"/{{laser}}/land_ice_segments\",\n",
    "                     var_path_params = [{\"name\": \"laser\",\n",
    "                                         \"description\": \"Laser Beam Number\",\n",
    "                                         \"type\": \"str\",\n",
    "                                         \"default\": \"gt1l\",\n",
    "                                         \"allowed\": [\"gt1l\", \"gt1r\", \"gt2l\", \"gt2r\", \"gt3l\", \"gt3r\"]\n",
    "                                        }]\n",
    "                    )"
   ]
  },
  {
   "cell_type": "markdown",
   "id": "8a1b1ba3",
   "metadata": {},
   "source": [
    "However, you may also add additional entries or use alternative drivers.\n",
    "This approach is not recommended for those with limited familiarity of Intake catalogs.\n",
    "If you find yourself needing additional customization at this point, we recommend creating a default catalog as above, exporting it (see below), modifying the underlying catalog file, and then re-creating your reader object with the modified catalog."
   ]
  },
  {
   "cell_type": "code",
   "execution_count": null,
   "id": "67ab4d86",
   "metadata": {},
   "outputs": [],
   "source": [
    "# more custom options for your ICESat-2 catalog\n",
    "engine_kwargs_dict = {\n",
    "    'engine': \"h5netcdf\",\n",
    "    'group': \"/gt1l/land_ice_segments\" \n",
    "}\n",
    "\n",
    "source_args_dict = {\n",
    "    'urlpath': filepath,\n",
    "#     'path_as_pattern': \n",
    "    'xarray_kwargs': engine_kwargs_dict\n",
    "}\n",
    "\n",
    "sources = ['is2_local', 'is2_s3']\n",
    "\n",
    "reader.build_catalog(entries={\n",
    "                        \"plugins\": {\"source\": {\"module\":intake_xarray}}, #don't need this?\n",
    "                        sources[0]: LocalCatalogEntry(name=sources[0],\n",
    "                                description=\"see if this overwrites the defaults\",\n",
    "                                driver=intake_xarray.netcdf.NetCDFSource,\n",
    "                                args=source_args_dict),\n",
    "#                          'source2': LocalCatalogEntry(name=\"is2_test2\",\n",
    "#                                 description=\"trying to write a 2 dynamic is2 data read in catalog\",\n",
    "#                                 driver=intake_xarray.netcdf.NetCDFSource,\n",
    "#                                 args=cat_dict)\n",
    "                          })"
   ]
  },
  {
   "cell_type": "markdown",
   "id": "0f0076f9",
   "metadata": {},
   "source": [
    "#### Viewing your catalog\n",
    "\n",
    "You can access the catalog you've created or loaded for reading in your `source` data files by accessing the catalog attribute of the object."
   ]
  },
  {
   "cell_type": "code",
   "execution_count": null,
   "id": "2de29fd8",
   "metadata": {},
   "outputs": [],
   "source": [
    "reader.catalog"
   ]
  },
  {
   "cell_type": "code",
   "execution_count": null,
   "id": "ea54f0df",
   "metadata": {},
   "outputs": [],
   "source": [
    "import intake\n",
    "def serialize(self):\n",
    "        \"\"\"\n",
    "        Produce YAML version of this catalog.\n",
    "        Note that this is not the same as ``.yaml()``, which produces a YAML\n",
    "        block referring to this catalog.\n",
    "        \"\"\"\n",
    "        import yaml\n",
    "        output = {\"metadata\": self.metadata, \"sources\": {},\n",
    "                  \"name\": self.name}\n",
    "        for key, entry in self._entries.items():\n",
    "            kw = entry._captured_init_kwargs.copy()\n",
    "#             print(kw)\n",
    "            kw.pop('catalog', None)\n",
    "            kw['parameters'] = {k.name: k.__getstate__()['kwargs'] for k in kw.get('parameters', [])}\n",
    "            print(kw['driver'].__name__)\n",
    "            print(kw['driver'].__class__.__name__)\n",
    "            print(\".\".join([kw['driver'].__module__, kw['driver'].__name__]))\n",
    "            if issubclass(kw['driver'], intake.source.base.DataSourceBase):\n",
    "                kw['driver'] = \".\".join([kw['driver'].__module__, kw['driver'].__name__])\n",
    "#                 kw['driver'] = str(kw['driver']).split(\"'\")[1]\n",
    "                print(type(kw['driver']))\n",
    "                print(kw['driver'])\n",
    "            \n",
    "            output[\"sources\"][key] = kw\n",
    "#         print(output)\n",
    "        return yaml.dump(output)"
   ]
  },
  {
   "cell_type": "code",
   "execution_count": null,
   "id": "c20b79c7",
   "metadata": {
    "scrolled": true
   },
   "outputs": [],
   "source": [
    "serialize(reader.catalog)"
   ]
  },
  {
   "cell_type": "markdown",
   "id": "81b4368f",
   "metadata": {},
   "source": [
    "Once you have created your catalog, you can use it to explore your data without having to load the entire dataset into memory.\n",
    "Intake provides a great Graphical User Interface (GUI) for doing so."
   ]
  },
  {
   "cell_type": "code",
   "execution_count": null,
   "id": "d91ee580",
   "metadata": {},
   "outputs": [],
   "source": [
    "reader.catalog.gui"
   ]
  },
  {
   "cell_type": "markdown",
   "id": "bab9c949",
   "metadata": {},
   "source": [
    "#### Saving your catalog\n",
    "By saving your catalog as a .yml file, you'll have the exact set of \"instructions\" you used to read-in your data.\n",
    "This makes it easy to replicate your read-in, easily make changes to you catalog, or share it with your colleagues.\n",
    "\n",
    "Don't forget you can easily use an existing catalog to read in your data with `reader = ipx.Read(filepath, pattern, catalog)`"
   ]
  },
  {
   "cell_type": "code",
   "execution_count": null,
   "id": "30f0122a",
   "metadata": {},
   "outputs": [],
   "source": [
    "catpath = '/Users/jessica/computing/icepyx/test_data/test_catalog.yml'\n",
    "reader.catalog.save(catpath)"
   ]
  },
  {
   "cell_type": "code",
   "execution_count": null,
   "id": "330c01f9",
   "metadata": {},
   "outputs": [],
   "source": [
    "readcatalog = intake.open_catalog(catpath)"
   ]
  },
  {
   "cell_type": "code",
   "execution_count": null,
   "id": "fdb397e2",
   "metadata": {},
   "outputs": [],
   "source": [
    "readcatalog[\"is2_local\"].read()"
   ]
  },
  {
   "cell_type": "markdown",
   "id": "473de4d7",
   "metadata": {},
   "source": [
    "### Loading your data\n",
    "\n",
    "Once you've set up your catalog and determined which data source you'd like to read from using the GUI above (by default if you have created a catalog using `reader.build_catalog()` the data source will be name \"is2_local\"), you can simply using the `read()` function to create the specified data object with your desired data."
   ]
  },
  {
   "cell_type": "code",
   "execution_count": null,
   "id": "3cc9cb47",
   "metadata": {
    "scrolled": true
   },
   "outputs": [],
   "source": [
    "ds = reader.catalog['is2_local'].read()\n",
    "ds"
   ]
  },
  {
   "cell_type": "code",
   "execution_count": null,
   "id": "eaabc976",
   "metadata": {},
   "outputs": [],
   "source": []
  },
  {
   "cell_type": "code",
   "execution_count": null,
   "id": "e4a9b63b",
   "metadata": {},
   "outputs": [],
   "source": []
  },
  {
   "cell_type": "code",
   "execution_count": null,
   "id": "159418b9",
   "metadata": {},
   "outputs": [],
   "source": []
  },
  {
   "cell_type": "code",
   "execution_count": null,
   "id": "fdff2ede",
   "metadata": {},
   "outputs": [],
   "source": []
  },
  {
   "cell_type": "code",
   "execution_count": null,
   "id": "f56f4aa2",
   "metadata": {},
   "outputs": [],
   "source": []
  },
  {
   "cell_type": "code",
   "execution_count": null,
   "id": "df2e626a",
   "metadata": {},
   "outputs": [],
   "source": [
    "source_file, file_format\n",
    "\n",
    "\n",
    "if not isinstance(save_path, Path) and not isinstance(save_path, str):\n",
    "            raise TypeError(\"save_path must be a string or Path\")\n",
    "\n",
    "        fsmap = fsspec.get_mapper(str(save_path), **output_storage_options)\n",
    "        output_fs = fsmap.fs\n",
    "\n",
    "        # Use the full path such as s3://... if it's not local, otherwise use root\n",
    "        if isinstance(output_fs, LocalFileSystem):\n",
    "            root = fsmap.root\n",
    "        else:\n",
    "            root = save_path\n",
    "        if Path(root).suffix == \"\":  # directory\n",
    "            out_dir = root\n",
    "            out_path = os.path.join(root, Path(source_file).stem + file_format)\n",
    "        else:  # file\n",
    "            out_dir = os.path.dirname(root)\n",
    "            out_path = os.path.join(out_dir, Path(root).stem + file_format)"
   ]
  },
  {
   "cell_type": "code",
   "execution_count": null,
   "id": "4ddd5aff",
   "metadata": {},
   "outputs": [],
   "source": []
  },
  {
   "cell_type": "code",
   "execution_count": null,
   "id": "e46a4f38",
   "metadata": {},
   "outputs": [],
   "source": [
    "import intake\n",
    "import intake_xarray"
   ]
  },
  {
   "cell_type": "code",
   "execution_count": null,
   "id": "5e00edf1",
   "metadata": {},
   "outputs": [],
   "source": [
    "import h5netcdf"
   ]
  },
  {
   "cell_type": "code",
   "execution_count": null,
   "id": "c7334112",
   "metadata": {},
   "outputs": [],
   "source": []
  },
  {
   "cell_type": "code",
   "execution_count": null,
   "id": "46a36fc0",
   "metadata": {},
   "outputs": [],
   "source": [
    "from intake.catalog import Catalog\n",
    "from intake.catalog.local import LocalCatalogEntry"
   ]
  },
  {
   "cell_type": "code",
   "execution_count": null,
   "id": "1c2ef3b9",
   "metadata": {},
   "outputs": [],
   "source": []
  },
  {
   "cell_type": "code",
   "execution_count": null,
   "id": "1350afee",
   "metadata": {},
   "outputs": [],
   "source": [
    "notebook demo:\n",
    "    X- show that you can enter minimal (or no) inputs to build catalog\n",
    "    - show that you can override the defaults if you do more of construction on your end\n",
    "    - figure out how multiple var_paths will work...\n",
    "    X- show how to view the gui and use it to get the sources and then read in data\n",
    "    x (need to finish examples once have them from notebook) - add docstrings for build_catalog\n",
    "    x- clean up this notebook and start turning it into an example"
   ]
  },
  {
   "cell_type": "code",
   "execution_count": null,
   "id": "97f2b90d",
   "metadata": {},
   "outputs": [],
   "source": []
  },
  {
   "cell_type": "code",
   "execution_count": null,
   "id": "0207ca8a",
   "metadata": {},
   "outputs": [],
   "source": []
  },
  {
   "cell_type": "code",
   "execution_count": null,
   "id": "7c84a95e",
   "metadata": {},
   "outputs": [],
   "source": []
  },
  {
   "cell_type": "code",
   "execution_count": null,
   "id": "9aeb0e6b",
   "metadata": {},
   "outputs": [],
   "source": []
  },
  {
   "cell_type": "code",
   "execution_count": null,
   "id": "69438723",
   "metadata": {},
   "outputs": [],
   "source": []
  },
  {
   "cell_type": "code",
   "execution_count": null,
   "id": "b09a5412",
   "metadata": {},
   "outputs": [],
   "source": [
    "reader.catalog['is2_local'].read()"
   ]
  },
  {
   "cell_type": "code",
   "execution_count": null,
   "id": "389eb10a",
   "metadata": {},
   "outputs": [],
   "source": []
  },
  {
   "cell_type": "code",
   "execution_count": null,
   "id": "dbd7e977",
   "metadata": {},
   "outputs": [],
   "source": []
  },
  {
   "cell_type": "code",
   "execution_count": null,
   "id": "f1112c1a",
   "metadata": {},
   "outputs": [],
   "source": []
  },
  {
   "cell_type": "code",
   "execution_count": null,
   "id": "ca51a1a1",
   "metadata": {},
   "outputs": [],
   "source": [
    "sources = ['is2_local', 'is2_s3']\n",
    "mycat = Catalog.from_dict(name=\"IS2-hdf5-intake-catalog\",\n",
    "                          description=\"a dynamic catalog for creating local ICESat-2 intake entries\",\n",
    "                          metadata={\"version\":1},\n",
    "                          entries={\n",
    "#                         \"plugins\": {\"source\": {\"module\":intake_xarray}}, #don't need this?\n",
    "                        sources[0]: LocalCatalogEntry(name=sources[0],\n",
    "                                description=\"trying to write a dynamic is2 data read in catalog\",\n",
    "                                driver=intake_xarray.netcdf.NetCDFSource,\n",
    "                                args=source_args_dict),\n",
    "#                          'source2': LocalCatalogEntry(name=\"is2_test2\",\n",
    "#                                 description=\"trying to write a 2 dynamic is2 data read in catalog\",\n",
    "#                                 driver=intake_xarray.netcdf.NetCDFSource,\n",
    "#                                 args=cat_dict)\n",
    "                          })\n"
   ]
  },
  {
   "cell_type": "code",
   "execution_count": null,
   "id": "be2ec77e",
   "metadata": {},
   "outputs": [],
   "source": [
    "mycat.gui"
   ]
  },
  {
   "cell_type": "code",
   "execution_count": null,
   "id": "70d78e21",
   "metadata": {},
   "outputs": [],
   "source": [
    "mycat[sources[0]]"
   ]
  },
  {
   "cell_type": "code",
   "execution_count": null,
   "id": "8c91c51d",
   "metadata": {},
   "outputs": [],
   "source": []
  },
  {
   "cell_type": "code",
   "execution_count": null,
   "id": "2707695d",
   "metadata": {},
   "outputs": [],
   "source": [
    "args:\n",
    "      urlpath: /Users/lt/Desktop/Intake_TEST/ATL06_RAW/processed_ATL06_*_{{rgt}}{{cycle}}{{orbitsegment}}_003_0*.h5\n",
    "      path_as_pattern: processed_ATL06_{datetime:%Y%m%d%H%M%S}_{rgt:4}{cycle:2}{orbitsegment:2}_{version:3}_{revision:2}.h5\n",
    "      chunks:\n",
    "        delta_time: 500\n",
    "      xarray_kwargs:\n",
    "        combine: by_coords\n",
    "        engine: h5netcdf\n",
    "        group: /{{laser}}/land_ice_segments\n",
    "        mask_and_scale: true\n",
    "        parallel: true\n",
    "    # https://intake.readthedocs.io/en/latest/catalog.html#parameter-definition\n",
    "    parameters:\n",
    "        rgt:\n",
    "          description: ICESat-2 Reference Ground Track number\n",
    "          type: str\n",
    "          default: '0598'  # NEED TO BE IMPROVED !!!\n",
    "          allowed: ['0598', '0095', '0406', '0537', '0659', '0467', '0467', '0156', '0598']\n",
    "        cycle:\n",
    "          description: Cycle number\n",
    "          type: str\n",
    "          default: \"09\"\n",
    "          allowed: [\"01\",\"02\",\"03\",\"04\",\"05\",\"06\",\"07\",\"08\",\"09\"]\n",
    "        orbitsegment:\n",
    "          description: Orbital Segment\n",
    "          type: str\n",
    "          default: 11\n",
    "          allowed: [10, 11, 12]\n",
    "        laser:\n",
    "          description: Laser Beam Number\n",
    "          type: str\n",
    "          default: gt1l\n",
    "          allowed: [\"gt1l\", \"gt1r\", \"gt2l\", \"gt2r\", \"gt3l\", \"gt3r\"]\n"
   ]
  },
  {
   "cell_type": "code",
   "execution_count": null,
   "id": "0af7c533",
   "metadata": {},
   "outputs": [],
   "source": []
  }
 ],
 "metadata": {
  "kernelspec": {
   "display_name": "Python 3",
   "language": "python",
   "name": "python3"
  },
  "language_info": {
   "codemirror_mode": {
    "name": "ipython",
    "version": 3
   },
   "file_extension": ".py",
   "mimetype": "text/x-python",
   "name": "python",
   "nbconvert_exporter": "python",
   "pygments_lexer": "ipython3",
   "version": "3.9.4"
  }
 },
 "nbformat": 4,
 "nbformat_minor": 5
}
