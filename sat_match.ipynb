{
 "cells": [
  {
   "cell_type": "code",
   "execution_count": 2,
   "metadata": {},
   "outputs": [],
   "source": [
    "# sandbox script that will download MODIS or other satellite data given a lat,lon, time of interest\n",
    "# notes below are how i envision us to use the tools \n",
    "\n",
    "# import modules for use\n",
    "\n",
    "import csv\n",
    "import sys\n",
    "from datetime import datetime\n",
    "from getpass import getpass\n",
    "import requests\n",
    "import re\n",
    "import os\n",
    "from time import sleep\n",
    "from pandas import DataFrame, read_csv\n",
    "import socket\n",
    "import math\n",
    "import diy_functions as fn # this is the script that contains a ton of functions to work with the data\n",
    "# similar to readers.py from hackweek, and eventually we can put this in icepyx\n",
    "\n",
    "import csv\n",
    "import pandas as pd\n",
    "%load_ext autoreload\n",
    "import icepyx as ipx\n",
    "%autoreload 2"
   ]
  },
  {
   "cell_type": "code",
   "execution_count": 3,
   "metadata": {},
   "outputs": [],
   "source": [
    "# the script above ingets CSVs so we will need to manipulate that in icepyx\n",
    "\n",
    "# create easy CSV for demonstration of how to use it within ipx query objcet\n",
    "df = pd.Series([-55, 68, -48, 71,'2019-02-22','2019-02-28', '00:00:00','23:59:59'])\n",
    "df.to_csv('/Users/bissonk/test.csv',index=False)\n",
    "f= pd.read_csv('/Users/bissonk/test.csv')\n",
    "\n",
    "# note that MODIS won't work yet as an input but this is how it might look \n",
    "POI = ipx.Query('MODIS',[f.iloc[0,0], f.iloc[1,0], f.iloc[2,0],f.iloc[3,0]], [f.iloc[4,0],f.iloc[5,0]], \\\n",
    "                           start_time=f.iloc[6,0], end_time= f.iloc[7,0])\n",
    "\n",
    "# currently the diy_tools has a built in function to ask the user for earth data login\n",
    "# and other log ins (like creodias)\n",
    "POI.earthdata_login('kelseyb','bissonk@oregonstate.edu') "
   ]
  },
  {
   "cell_type": "code",
   "execution_count": null,
   "metadata": {},
   "outputs": [],
   "source": [
    "\n"
   ]
  },
  {
   "cell_type": "code",
   "execution_count": null,
   "metadata": {},
   "outputs": [],
   "source": []
  },
  {
   "cell_type": "code",
   "execution_count": null,
   "metadata": {},
   "outputs": [],
   "source": []
  },
  {
   "cell_type": "code",
   "execution_count": null,
   "metadata": {},
   "outputs": [],
   "source": []
  },
  {
   "cell_type": "code",
   "execution_count": null,
   "metadata": {},
   "outputs": [],
   "source": []
  },
  {
   "cell_type": "code",
   "execution_count": null,
   "metadata": {},
   "outputs": [],
   "source": []
  },
  {
   "cell_type": "code",
   "execution_count": null,
   "metadata": {},
   "outputs": [],
   "source": []
  },
  {
   "cell_type": "code",
   "execution_count": null,
   "metadata": {},
   "outputs": [],
   "source": []
  },
  {
   "cell_type": "code",
   "execution_count": null,
   "metadata": {},
   "outputs": [],
   "source": []
  },
  {
   "cell_type": "code",
   "execution_count": null,
   "metadata": {},
   "outputs": [],
   "source": []
  }
 ],
 "metadata": {
  "kernelspec": {
   "display_name": "Python 3",
   "language": "python",
   "name": "python3"
  },
  "language_info": {
   "codemirror_mode": {
    "name": "ipython",
    "version": 3
   },
   "file_extension": ".py",
   "mimetype": "text/x-python",
   "name": "python",
   "nbconvert_exporter": "python",
   "pygments_lexer": "ipython3",
   "version": "3.9.2"
  }
 },
 "nbformat": 4,
 "nbformat_minor": 2
}
